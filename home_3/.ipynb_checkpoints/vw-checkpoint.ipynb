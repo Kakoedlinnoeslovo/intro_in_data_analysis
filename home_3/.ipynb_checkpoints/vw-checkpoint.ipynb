{
 "cells": [
  {
   "cell_type": "code",
   "execution_count": 6,
   "metadata": {
    "collapsed": false
   },
   "outputs": [],
   "source": [
    "with open('train_out', 'w') as f_out:\n",
    "    for f_name in ['./trainingData_tabular/trainingData_tabular_chunk1.csv', './trainingData_tabular/trainingData_tabular_chunk2.csv', './trainingData_tabular/trainingData_tabular_chunk3.csv', './trainingData_tabular/trainingData_tabular_chunk4.csv']:\n",
    "        for idx, line in enumerate(open(f_name)):\n",
    "            if idx ==0 :\n",
    "                continue\n",
    "                \n",
    "            parts = line.split(',')\n",
    "            \n",
    "#             print parts\n",
    "            f_out.write('{} {}|{}'.format(int(parts[1])*2 - 1, parts[0], ' '.join(parts[2:])))"
   ]
  },
  {
   "cell_type": "code",
   "execution_count": 7,
   "metadata": {
    "collapsed": true
   },
   "outputs": [],
   "source": [
    "!head -700000 train_out > trainData.txt"
   ]
  },
  {
   "cell_type": "code",
   "execution_count": 8,
   "metadata": {
    "collapsed": true
   },
   "outputs": [],
   "source": [
    "!head -1300000 train_out | tail -600000 > validationData.txt"
   ]
  },
  {
   "cell_type": "code",
   "execution_count": 9,
   "metadata": {
    "collapsed": true
   },
   "outputs": [],
   "source": [
    "!tail -700000 train_out > testData.txt"
   ]
  },
  {
   "cell_type": "code",
   "execution_count": 12,
   "metadata": {
    "collapsed": false
   },
   "outputs": [
    {
     "name": "stdout",
     "output_type": "stream",
     "text": [
      "final_regressor = model_train.txt\n",
      "predictions = probs.txt\n",
      "Num weight bits = 18\n",
      "learning rate = 0.5\n",
      "initial_t = 0\n",
      "power_t = 0.5\n",
      "using no cache\n",
      "Reading datafile = trainData.txt\n",
      "num sources = 1\n",
      "average  since         example        example  current  current  current\n",
      "loss     last          counter         weight    label  predict features\n",
      "0.693147 0.693147            1            1.0   1.0000   0.5000       43\n",
      "0.513314 0.333480            2            2.0   1.0000   0.7164       43\n",
      "0.311030 0.108747            4            4.0   1.0000   0.9677       43\n",
      "0.944874 1.578718            8            8.0   1.0000   0.5810       43\n",
      "1.166654 1.388433           16           16.0  -1.0000   0.7845       43\n",
      "1.038503 0.910353           32           32.0   1.0000   0.8787       43\n",
      "0.963644 0.888785           64           64.0  -1.0000   0.2218       43\n",
      "1.118655 1.273665          128          128.0  -1.0000   0.9836       43\n",
      "1.072551 1.026447          256          256.0   1.0000   0.2665       43\n",
      "0.966792 0.861034          512          512.0  -1.0000   0.4296       43\n",
      "0.888206 0.809620         1024         1024.0   1.0000   0.5329       43\n",
      "0.829415 0.770624         2048         2048.0   1.0000   0.2855       43\n",
      "0.790390 0.751365         4096         4096.0  -1.0000   0.4642       43\n",
      "0.761517 0.732644         8192         8192.0  -1.0000   0.6742       43\n",
      "0.740777 0.720037        16384        16384.0  -1.0000   0.4776       43\n",
      "0.725089 0.709402        32768        32768.0  -1.0000   0.5555       43\n",
      "0.714616 0.704142        65536        65536.0   1.0000   0.5505       43\n",
      "0.707475 0.700335       131072       131072.0  -1.0000   0.4730       43\n",
      "0.702679 0.697883       262144       262144.0  -1.0000   0.3759       43\n",
      "0.699366 0.696053       524288       524288.0   1.0000   0.4681       43\n",
      "\n",
      "finished run\n",
      "number of examples per pass = 700000\n",
      "passes used = 1\n",
      "weighted example sum = 700000.000000\n",
      "weighted label sum = 5922.000000\n",
      "average loss = 0.698306\n",
      "best constant = 0.016920\n",
      "best constant's loss = 0.693111\n",
      "total feature number = 30100000\n"
     ]
    }
   ],
   "source": [
    "!vw -d trainData.txt --loss_function=logistic --link=logistic -p probs.txt -f model_train.txt"
   ]
  },
  {
   "cell_type": "code",
   "execution_count": 13,
   "metadata": {
    "collapsed": false
   },
   "outputs": [
    {
     "name": "stdout",
     "output_type": "stream",
     "text": [
      "only testing\n",
      "predictions = probs_predicted.txt\n",
      "Num weight bits = 18\n",
      "learning rate = 0.5\n",
      "initial_t = 0\n",
      "power_t = 0.5\n",
      "using no cache\n",
      "Reading datafile = validationData.txt\n",
      "num sources = 1\n",
      "average  since         example        example  current  current  current\n",
      "loss     last          counter         weight    label  predict features\n",
      "0.709309 0.709309            1            1.0  -1.0000   0.4606       43\n",
      "1.045381 1.381454            2            2.0   1.0000   0.4563       43\n",
      "0.859554 0.673727            4            4.0  -1.0000   0.4335       43\n",
      "0.987783 1.116012            8            8.0  -1.0000   0.4903       43\n",
      "0.988667 0.989551           16           16.0  -1.0000   0.4889       43\n",
      "1.093264 1.197861           32           32.0   1.0000   0.3524       43\n",
      "1.093141 1.093018           64           64.0   1.0000   0.5190       43\n",
      "1.021030 0.948919          128          128.0   1.0000   0.4838       43\n",
      "1.044762 1.068494          256          256.0   1.0000   0.4783       43\n",
      "1.047445 1.050127          512          512.0   1.0000   0.4353       43\n",
      "1.039876 1.032307         1024         1024.0   1.0000   0.4418       43\n",
      "1.030138 1.020401         2048         2048.0   1.0000   0.4504       43\n",
      "1.031199 1.032259         4096         4096.0  -1.0000   0.5494       43\n",
      "1.027936 1.024672         8192         8192.0   1.0000   0.3888       43\n",
      "1.030191 1.032446        16384        16384.0   1.0000   0.4506       43\n",
      "1.027598 1.025004        32768        32768.0   1.0000   0.4678       43\n",
      "1.027421 1.027244        65536        65536.0   1.0000   0.4434       43\n",
      "1.027874 1.028328       131072       131072.0   1.0000   0.4646       43\n",
      "1.028036 1.028198       262144       262144.0   1.0000   0.4589       43\n",
      "1.029205 1.030374       524288       524288.0  -1.0000   0.5454       43\n",
      "\n",
      "finished run\n",
      "number of examples per pass = 600000\n",
      "passes used = 1\n",
      "weighted example sum = 600000.000000\n",
      "weighted label sum = 6860.000000\n",
      "average loss = 1.029088\n",
      "best constant = 0.011433\n",
      "best constant's loss = 0.999869\n",
      "total feature number = 25800000\n"
     ]
    }
   ],
   "source": [
    "!vw -i model_train.txt -t validationData.txt -p probs_predicted.txt"
   ]
  },
  {
   "cell_type": "code",
   "execution_count": 14,
   "metadata": {
    "collapsed": true
   },
   "outputs": [],
   "source": [
    "!cat validationData.txt | awk '{print $1;}' > validationLab.txt"
   ]
  },
  {
   "cell_type": "code",
   "execution_count": 15,
   "metadata": {
    "collapsed": true
   },
   "outputs": [],
   "source": [
    "labels = [int(l) for l in open('./validationLab.txt').readlines()]"
   ]
  },
  {
   "cell_type": "code",
   "execution_count": 18,
   "metadata": {
    "collapsed": false
   },
   "outputs": [
    {
     "data": {
      "text/plain": [
       "600000"
      ]
     },
     "execution_count": 18,
     "metadata": {},
     "output_type": "execute_result"
    }
   ],
   "source": [
    "len(labels)"
   ]
  },
  {
   "cell_type": "code",
   "execution_count": 20,
   "metadata": {
    "collapsed": true
   },
   "outputs": [],
   "source": [
    "!cat probs_predicted.txt | awk '{print $1;}' > validationPred.txt"
   ]
  },
  {
   "cell_type": "code",
   "execution_count": 23,
   "metadata": {
    "collapsed": false
   },
   "outputs": [],
   "source": [
    "y_prob = [float(l) for l in open('./validationPred.txt').readlines()]"
   ]
  },
  {
   "cell_type": "code",
   "execution_count": 19,
   "metadata": {
    "collapsed": true
   },
   "outputs": [],
   "source": [
    "from sklearn.metrics import roc_curve"
   ]
  },
  {
   "cell_type": "code",
   "execution_count": 24,
   "metadata": {
    "collapsed": true
   },
   "outputs": [],
   "source": [
    "fpr, tpr, _ = roc_curve(labels, y_prob)"
   ]
  },
  {
   "cell_type": "code",
   "execution_count": 27,
   "metadata": {
    "collapsed": true
   },
   "outputs": [],
   "source": [
    "import matplotlib.pyplot as plt\n",
    "%matplotlib inline"
   ]
  },
  {
   "cell_type": "code",
   "execution_count": 28,
   "metadata": {
    "collapsed": false
   },
   "outputs": [
    {
     "data": {
      "text/plain": [
       "<matplotlib.collections.PolyCollection at 0x1105d0790>"
      ]
     },
     "execution_count": 28,
     "metadata": {},
     "output_type": "execute_result"
    },
    {
     "data": {
      "image/png": "[encoded data removed]",
      "text/plain": [
       "<matplotlib.figure.Figure at 0x11052d210>"
      ]
     },
     "metadata": {},
     "output_type": "display_data"
    }
   ],
   "source": [
    "plt.fill_between(fpr, tpr,  alpha=0.3)"
   ]
  },
  {
   "cell_type": "code",
   "execution_count": null,
   "metadata": {
    "collapsed": true
   },
   "outputs": [],
   "source": []
  }
 ],
 "metadata": {
  "kernelspec": {
   "display_name": "Python 2",
   "language": "python",
   "name": "python2"
  },
  "language_info": {
   "codemirror_mode": {
    "name": "ipython",
    "version": 2
   },
   "file_extension": ".py",
   "mimetype": "text/x-python",
   "name": "python",
   "nbconvert_exporter": "python",
   "pygments_lexer": "ipython2",
   "version": "2.7.9"
  }
 },
 "nbformat": 4,
 "nbformat_minor": 2
}
